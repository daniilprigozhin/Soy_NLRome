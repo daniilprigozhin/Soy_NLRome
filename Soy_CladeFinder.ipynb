{
  "nbformat": 4,
  "nbformat_minor": 0,
  "metadata": {
    "colab": {
      "name": "Soy_CladeFinder.ipynb",
      "provenance": [],
      "collapsed_sections": [],
      "include_colab_link": true
    },
    "kernelspec": {
      "name": "python3",
      "display_name": "Python 3"
    },
    "language_info": {
      "name": "python"
    }
  },
  "cells": [
    {
      "cell_type": "markdown",
      "metadata": {
        "id": "view-in-github",
        "colab_type": "text"
      },
      "source": [
        "<a href=\"https://colab.research.google.com/github/daniilprigozhin/Soy_NLRome/blob/main/Soy_CladeFinder.ipynb\" target=\"_parent\"><img src=\"https://colab.research.google.com/assets/colab-badge.svg\" alt=\"Open In Colab\"/></a>"
      ]
    },
    {
      "cell_type": "code",
      "metadata": {
        "id": "EMFf1AgmrH5v",
        "cellView": "form"
      },
      "source": [
        "#@title Install Dependencies\n",
        "##This block takes 4-5 minutes\n",
        "import pandas as pd\n",
        "import numpy as np\n",
        "!pip install -q condacolab\n",
        "import condacolab\n",
        "condacolab.install()\n",
        "!conda install -c bioconda hmmer \n",
        "!conda install -c bioconda mafft\n",
        "!pip install Bio\n",
        "from collections import defaultdict\n",
        "import pandas as pd\n",
        "from Bio import SearchIO\n",
        "!conda install -c bioconda epa-ng\n",
        "!conda install -c bioconda gappa\n",
        "from google.colab import files"
      ],
      "execution_count": null,
      "outputs": []
    },
    {
      "cell_type": "code",
      "metadata": {
        "id": "XpgEVvWF3rO5",
        "cellView": "form"
      },
      "source": [
        "#@title Select Species\n",
        "Species = \"Soy\" #@param [\"Soy\", \"Arabidopsis\", \"Maize\"]\n",
        "\n",
        "if Species == 'Soy':\n",
        "  !rm -rf Soy_NLRome/\n",
        "\n",
        "  !git clone https://github.com/daniilprigozhin/Soy_NLRome.git\n",
        "\n",
        "  %cd Soy_NLRome\n",
        "\n",
        "  common = pd.read_csv(\"Soy_NLRome_GeneTable.txt\", sep='\\t')\n",
        "\n",
        "\n",
        "clades = common[[\"Clade\", \"File\"]].groupby(\"Clade\").first()\n",
        "!mkdir Clade_HMM\n",
        "for row in clades.iterrows():\n",
        "  !hmmbuild -n {row[0]} Clade_HMM/{row[0]}.hmm {row[1][\"File\"]}\n",
        "\n",
        "!cat Clade_HMM/*.hmm > All_Clades.hmm"
      ],
      "execution_count": null,
      "outputs": []
    },
    {
      "cell_type": "code",
      "metadata": {
        "id": "oSH89fmE6j5v",
        "cellView": "form"
      },
      "source": [
        "#@title Code from exporting/importing to gdrive. Unnecessary Right now.\n",
        "# #export\n",
        "# from google.colab import drive\n",
        "# drive.mount('/content/drive')\n",
        "# !mkdir /content/drive/MyDrive/Soy_NLRome_Colab\n",
        "# !cp -r ../Soy_NLRome/ /content/drive/MyDrive/Soy_NLRome_Colab\n",
        "\n",
        "# #import\n",
        "# from google.colab import drive\n",
        "\n",
        "# drive.mount('/content/drive')\n",
        "# !cd ./drive/MyDrive/Soy_NLRome_Colab/Soy_NLRome"
      ],
      "execution_count": null,
      "outputs": []
    },
    {
      "cell_type": "code",
      "metadata": {
        "id": "poPVyX_F8cPj",
        "cellView": "form"
      },
      "source": [
        "# Code used from https://github.com/sokrypton/ColabFold\n",
        "import re\n",
        "import hashlib\n",
        "\n",
        "def add_hash(x,y):\n",
        "  return x+\"_\"+hashlib.sha1(y.encode()).hexdigest()[:5]\n",
        "\n",
        "query_sequence = 'MAWGSSSSSSSSSSNYDVFLSFRGEDTRHAFTGHLYKALHDKGIHTFIDDEKLQRGEQITRALMEAIQDSRVAITVLSQNYASSSFCLDELATILHCHQRKRLLVIPVFYKVDPSDVRHQKGSYAEALEKLETRFQHDPEKLQKWKMALKQVADLSGYHFKEGDGYEFKFIEKIVERVSREINPRTLHVADYPVGLESRVLDVRRLLDAGSDDGVHMIGIHGMGGLGKSTLARAVYNELIIAEKFDGFCFLANVREKSDKKDGLEHLQRILLSEILGEKNISLTSTQQGISIIQSRLKGKKVLLILDDVNTHGQLQAIGRRDWFGPGSKIIITTRDEQLLAYHEVNETYEMKELNQKDALQLLTWNAFKKEKADPTYVEVLHRVVAYASGLPLALEVIGSHLVGKSIEAWESAIKQYKRIPKKEILDVLTVSFDALEEEEQKVFLDIACCLKGWTLTEVEHILPGLYDDCMKHNIGVLVEKSLIKVSWGDGVVNMHDLIQDMGRRIDQQRSSKEPGKRRRLWLTKDIIQVLDDNSKFRKLKVLKFDYCKILTEIPDVSVLVNLEELSFNRCGNLITVHHSIGFLNKLKILSAYGCSKLTTFPPLNLTSLEGLQLSACSSLENFPEILGEMKNLLMLQLFGLLGVKELPVSFQNLVGLQSLILQDCENFLLPSNIIAMMPKLSSLLAESCKGLQWVKSEEGEEKVGSIVCSNVDDSSFDGCNLYDDFFSTGFMQLDHVKTLSLRDNNFTFLPECLKELQFLTRLDVSGCLRLQEIRGVPPNLKEFMARECISLSSSSSSMLSNQELHEAGQTEFLFPGATIPEWFNHQSRGPSSSFWFRNKFPDNVLCLLLARVESIDLDDIPMPKVFINGILCKISSRNYQVRKVKLDYTYLFDLKSALYKLDDPSGLISALHELDEKEWDHVEITYGGIIETSLLKATGIHVFRQDDIRYDDPYGKRKLEHDLNSSESQSLIKKPRLSRWVGPERIINLLGNAADGALFTNPLRRYRHTSMDSSCPRCPELEETCLHALRDCPKVAAFWRSVLPKKLAPKFFNGDVAVWLETNLSFSEAAFFWPTFFGIAVELLWESRNDLVFYKDGTWDYLDLSDITDIVFNRYKDCMRAHASHILMPRNLLKWRRPLPLSHGHWLLRLNVSGAYDRSSDTAACGGIFRDNNDRFVLGFSVKLGECLSNDEGEIWGIYHGMKIARRYDIWGLYRDILRQHSIPISAKIARQHDFGKIIVESGSEKAIGFVLDGCPTSTSLEHCFPLCDELKALTSATNHLYFDNDYAADSFAKFGLSMKRQPVKIFRVCPPFCQPYISEYR' #@param {type:\"string\"}\n",
        "# remove whitespaces\n",
        "query_sequence = \"\".join(query_sequence.split())\n",
        "query_sequence = re.sub(r'[^a-zA-Z]','', query_sequence).upper()\n",
        "\n",
        "jobname = 'test' #@param {type:\"string\"}\n",
        "# remove whitespaces\n",
        "jobname = \"\".join(jobname.split())\n",
        "jobname = re.sub(r'\\W+', '', jobname)\n",
        "jobname_unhashed = jobname\n",
        "jobname = add_hash(jobname, query_sequence)\n",
        "\n",
        "\n",
        "with open(f\"{jobname}.fasta\", \"w\") as text_file:\n",
        "    text_file.write(\">\" + jobname_unhashed + \"\\n%s\" % query_sequence)"
      ],
      "execution_count": null,
      "outputs": []
    },
    {
      "cell_type": "code",
      "metadata": {
        "id": "JfTKi1juGfnO",
        "cellView": "form"
      },
      "source": [
        "#@title Create an Annotated Tree with your protein included\n",
        "!hmmsearch --domtblout {jobname}.tbl.out All_Clades.hmm {jobname}.fasta \n",
        "\n",
        "filename = jobname + \".tbl.out\"\n",
        "\n",
        "attribs = ['bias', 'bitscore',  'evalue']\n",
        "\n",
        "hits = defaultdict(list)\n",
        "names = []\n",
        "\n",
        "with open(filename) as handle:\n",
        "    for queryresult in SearchIO.parse(handle, 'hmmsearch3-domtab'):\n",
        "      #print(queryresult.id)\n",
        "      #print(queryresult.accession)\n",
        "      #print(queryresult.description)\n",
        "      for hit in queryresult.hsps:\n",
        "        names.append(queryresult.id)\n",
        "        for attrib in attribs:\n",
        "          hits[attrib].append(getattr(hit, attrib))\n",
        "\n",
        "final = pd.DataFrame.from_dict(hits)\n",
        "final[\"Clade\"] = names\n",
        "final.sort_values(\"bitscore\", ascending = False)\n",
        "\n",
        "#common = pd.read_csv(\"Soy_NLRome_GeneTable.txt\", sep='\\t')\n",
        "\n",
        "final_hv = final.set_index(\"Clade\").join(common[[\"Clade\", \"HV\", \"File\"]].groupby(\"Clade\").agg(max), how = 'left', rsuffix = \"_other\").sort_values(\"bitscore\", ascending = False)\n",
        "best_afa = final_hv.iloc[0,:][\"File\"]\n",
        "!mafft --add {jobname}.fasta --keeplength {best_afa} > {jobname}.updated.afa\n",
        "\n",
        "clade_oi = common[common[\"File\"] == best_afa].iloc[0,:][\"Clade\"]\n",
        "tree_oi = best_afa[:best_afa.find(\"Int\")] + \"RAxML_bestTree.\" + clade_oi + \".Raxml.out\"\n",
        "raxml_info_oi = best_afa[:best_afa.find(\"Int\")] + \"RAxML_info.\" + clade_oi + \".Raxml.out\"\n",
        "\n",
        "!epa-ng --split {best_afa} {jobname}.updated.afa --tree {tree_oi} --model {raxml_info_oi}\n",
        "!cut -f1 -d ' ' {best_afa} > best_afa_f.afa\n",
        "!epa-ng --ref-msa best_afa_f.afa --tree {tree_oi} -q query.fasta --model {raxml_info_oi} --redo\n",
        "\n",
        "!gappa examine graft --jplace-path ./\n",
        "\n",
        "tree_created = True\n",
        "\n",
        "is_hv = final_hv.iloc[0,:][\"HV\"] == 1\n",
        "\n",
        "if is_hv:\n",
        "  print(\"Your protein belongs to a highly variable clade.\")"
      ],
      "execution_count": null,
      "outputs": []
    },
    {
      "cell_type": "markdown",
      "metadata": {
        "id": "ykah0BUkkEj0"
      },
      "source": [
        "Above ends the process of tree creation. Below we create a Shannon Entropy model (receommended for proteins in highly variable clades)."
      ]
    },
    {
      "cell_type": "code",
      "metadata": {
        "id": "YBet1JrmoSni",
        "cellView": "form"
      },
      "source": [
        "#@title Create a Shannon Entropy Reading compared to other Proteins in Same Clade\n",
        "!Rscript Minimal_Chimera_Entropy_Script.R -f {jobname}.updated.afa -n test\n",
        "shannon_created = True\n",
        "#ls ./Test/test_/ PATH TO ENTROPY READINGS"
      ],
      "execution_count": null,
      "outputs": []
    },
    {
      "cell_type": "code",
      "source": [
        "#@title Download Results\n",
        "#@markdown Select which options you prefer and run. If save to drive option is chosen, the result zip will be uploaded to your Google Drive.\n",
        "#@markdown If you are having issues downloading the result archive, try disabling your adblocker and run this cell again. If that fails click on the little folder icon to the left, navigate to file: epa_result.jplace/newick for the tree, and {jobname}/{jobname} for the Shannon Entropy, right-click and select \"Download\".\n",
        "\n",
        "\n",
        "download_tree = False #@param {type:\"boolean\"}\n",
        "\n",
        "download_shannon_entropy = False #@param {type:\"boolean\"}\n",
        "\n",
        "download_to_drive = False #@param {type:\"boolean\"}\n",
        "\n",
        "if (download_tree and tree_created):\n",
        "  if (download_shannon_entropy and shannon_created):\n",
        "    #BUGGY PART HERE, IDK WHAT SHANNON ENTROPY FILES ARE CALLED\n",
        "    !zip -FSr $jobname\".result.zip\" \"epa_result.newick\" \"epa_result.jplace\" $jobname/jobname*/jobname*\"ChimeraEntropy.txt\" $jobname/jobname*/jobname*\"Entropy_MaskedNG.png\"\n",
        "    files.download(f\"{jobname}.result.zip\")\n",
        "    if download_to_drive == True and drive:\n",
        "      uploaded = drive.CreateFile({'title': f\"{jobname}.result.zip\"})\n",
        "      uploaded.SetContentFile(f\"{jobname}.result.zip\")\n",
        "      uploaded.Upload()\n",
        "      print(f\"Uploaded {jobname}.result.zip to Google Drive with ID {uploaded.get('id')}\")\n",
        "  else:\n",
        "    !zip -FSr $jobname\".result.zip\" \"epa_result.newick\" \"epa_result.jplace\" \n",
        "    files.download(f\"{jobname}.result.zip\")\n",
        "    if download_to_drive == True and drive:\n",
        "      uploaded = drive.CreateFile({'title': f\"{jobname}.result.zip\"})\n",
        "      uploaded.SetContentFile(f\"{jobname}.result.zip\")\n",
        "      uploaded.Upload()\n",
        "      print(f\"Uploaded {jobname}.result.zip to Google Drive with ID {uploaded.get('id')}\")\n",
        "  \n"
      ],
      "metadata": {
        "cellView": "form",
        "id": "s-TTDogjPWY9"
      },
      "execution_count": null,
      "outputs": []
    }
  ]
}